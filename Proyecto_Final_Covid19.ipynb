{
  "cells": [
    {
      "cell_type": "markdown",
      "metadata": {
        "id": "view-in-github",
        "colab_type": "text"
      },
      "source": [
        "<a href=\"https://colab.research.google.com/github/ahidalgo79/Proyecto_Final_CursoIntermedioDSyML/blob/main/Proyecto_Final_Covid19.ipynb\" target=\"_parent\"><img src=\"https://colab.research.google.com/assets/colab-badge.svg\" alt=\"Open In Colab\"/></a>"
      ]
    },
    {
      "cell_type": "markdown",
      "source": [
        "**Elección de un Dataset:**\n",
        "\n",
        "**Dataset:**\n",
        "\n",
        "Fuente: https://datosabiertos.salud.gob.mx/gobmx/salud/datos_abiertos/datos_abiertos_covid19.zip\n",
        "\n",
        "**A continuación, se describen los campos de entrada:**\n",
        "\n",
        "**Sexo**: Género del paciente (1 para masculino, 2 para femenino).\n",
        "\n",
        "**Tipo de Paciente:** Tipo de paciente (1 para ambulatorio, 2 para hospitalizado).\n",
        "\n",
        "**Intubado:** Indicador de si el paciente está intubado (1 para sí, 2 para no).\n",
        "\n",
        "**Neumonía:** Indicador de si el paciente tiene neumonía (1 para sí, 2 para no).\n",
        "\n",
        "**Edad:** Edad del paciente (entre 0 y 120 años).\n",
        "\n",
        "**Embarazo:** Indicador de si el paciente está embarazado (1 para sí, 2 para no).\n",
        "**Diabetes:** Indicador de si el paciente tiene diabetes (1 para sí, 2 para no).\n",
        "\n",
        "**EPOC:** Indicador de si el paciente tiene EPOC (1 para sí, 2 para no).\n",
        "\n",
        "**Asma:** Indicador de si el paciente tiene asma (1 para sí, 2 para no).\n",
        "\n",
        "**Inmunosupresión:** Indicador de si el paciente tiene inmunosupresión (1 para sí, 2 para no).\n",
        "\n",
        "**Hipertensión:** Indicador de si el paciente tiene hipertensión (1 para sí, 2 para no).\n",
        "Otra Comorbilidad: Indicador de si el paciente tiene otra comorbilidad (1 para sí, 2 para no).\n",
        "Cardiovascular: Indicador de si el paciente tiene enfermedad cardiovascular (1 para sí, 2 para no).\n",
        "Obesidad: Indicador de si el paciente tiene obesidad (1 para sí, 2 para no).\n",
        "Enfermedad Renal Crónica: Indicador de si el paciente tiene enfermedad renal crónica (1 para sí, 2 para no).\n",
        "Tabaquismo: Indicador de si el paciente es fumador (1 para sí, 2 para no).\n",
        "Contacto con otro caso: Indicador de si el paciente tuvo contacto con otro caso (1 para sí, 2 para no).\n",
        "Toma de muestra de laboratorio: Indicador de si se tomó una muestra de laboratorio (1 para sí, 2 para no).\n",
        "Resultado de laboratorio: Resultado de la muestra de laboratorio (1 para positivo, 2 para negativo).\n",
        "Toma de muestra de antígeno: Indicador de si se tomó una muestra de antígeno (1 para sí, 2 para no).\n",
        "Resultado de antígeno: Resultado de la muestra de antígeno (1 para positivo, 2 para negativo).\n",
        "UCI: Indicador de si el paciente estuvo en la UCI (1 para sí, 2 para no).\n",
        "Días de Hospitalización: Número de días de hospitalización del paciente.\n",
        "Días con Síntomas: Número de días desde el inicio de los síntomas."
      ],
      "metadata": {
        "id": "wJ97oVL3PIr7"
      }
    },
    {
      "cell_type": "code",
      "execution_count": null,
      "metadata": {
        "colab": {
          "base_uri": "https://localhost:8080/"
        },
        "id": "EjkcCFu_16-X",
        "outputId": "5554e1e7-1ce8-47a9-dd51-ce84b2a0135d"
      },
      "outputs": [
        {
          "output_type": "stream",
          "name": "stdout",
          "text": [
            "Cloning into 'rapidsai-csp-utils'...\n",
            "remote: Enumerating objects: 395, done.\u001b[K\n",
            "remote: Counting objects: 100% (126/126), done.\u001b[K\n",
            "remote: Compressing objects: 100% (75/75), done.\u001b[K\n",
            "remote: Total 395 (delta 92), reused 53 (delta 51), pack-reused 269\u001b[K\n",
            "Receiving objects: 100% (395/395), 108.50 KiB | 854.00 KiB/s, done.\n",
            "Resolving deltas: 100% (194/194), done.\n"
          ]
        }
      ],
      "source": [
        "! git clone https://github.com/rapidsai/rapidsai-csp-utils.git"
      ]
    },
    {
      "cell_type": "code",
      "execution_count": null,
      "metadata": {
        "colab": {
          "base_uri": "https://localhost:8080/"
        },
        "id": "tufyC3K416-c",
        "outputId": "73c2846d-971d-402a-a61e-e1f29342e6be"
      },
      "outputs": [
        {
          "output_type": "stream",
          "name": "stdout",
          "text": [
            "Collecting pynvml\n",
            "  Downloading pynvml-11.5.0-py3-none-any.whl (53 kB)\n",
            "     ━━━━━━━━━━━━━━━━━━━━━━━━━━━━━━━━━━━━━━━━ 53.1/53.1 kB 1.8 MB/s eta 0:00:00\n",
            "Installing collected packages: pynvml\n",
            "Successfully installed pynvml-11.5.0\n",
            "Traceback (most recent call last):\n",
            "  File \"/usr/local/lib/python3.10/dist-packages/pynvml/nvml.py\", line 1798, in _LoadNvmlLibrary\n",
            "    nvmlLib = CDLL(\"libnvidia-ml.so.1\")\n",
            "  File \"/usr/lib/python3.10/ctypes/__init__.py\", line 374, in __init__\n",
            "    self._handle = _dlopen(self._name, mode)\n",
            "OSError: libnvidia-ml.so.1: cannot open shared object file: No such file or directory\n",
            "\n",
            "During handling of the above exception, another exception occurred:\n",
            "\n",
            "Traceback (most recent call last):\n",
            "  File \"/content/rapidsai-csp-utils/colab/pip-install.py\", line 17, in <module>\n",
            "    pynvml.nvmlInit()\n",
            "  File \"/usr/local/lib/python3.10/dist-packages/pynvml/nvml.py\", line 1770, in nvmlInit\n",
            "    nvmlInitWithFlags(0)\n",
            "  File \"/usr/local/lib/python3.10/dist-packages/pynvml/nvml.py\", line 1753, in nvmlInitWithFlags\n",
            "    _LoadNvmlLibrary()\n",
            "  File \"/usr/local/lib/python3.10/dist-packages/pynvml/nvml.py\", line 1800, in _LoadNvmlLibrary\n",
            "    _nvmlCheckReturn(NVML_ERROR_LIBRARY_NOT_FOUND)\n",
            "  File \"/usr/local/lib/python3.10/dist-packages/pynvml/nvml.py\", line 833, in _nvmlCheckReturn\n",
            "    raise NVMLError(ret)\n",
            "pynvml.nvml.NVMLError_LibraryNotFound: NVML Shared Library Not Found\n",
            "\n",
            "During handling of the above exception, another exception occurred:\n",
            "\n",
            "Traceback (most recent call last):\n",
            "  File \"/content/rapidsai-csp-utils/colab/pip-install.py\", line 19, in <module>\n",
            "    raise Exception(\"\"\"\n",
            "Exception: \n",
            "                  Unfortunately you're in a Colab instance that doesn't have a GPU.\n",
            "\n",
            "                  Please make sure you've configured Colab to request a GPU Instance Type.\n",
            "               \n",
            "                  Go to 'Runtime -> Change Runtime Type --> under the Hardware Accelerator, select GPU', then try again.\n"
          ]
        }
      ],
      "source": [
        "! python3 rapidsai-csp-utils/colab/pip-install.py"
      ]
    },
    {
      "cell_type": "code",
      "execution_count": null,
      "metadata": {
        "id": "StM_SoK416-c"
      },
      "outputs": [],
      "source": [
        "#!wget https://datosabiertos.salud.gob.mx/gobmx/salud/datos_abiertos/datos_abiertos_covid19.zip"
      ]
    },
    {
      "cell_type": "code",
      "execution_count": null,
      "metadata": {
        "colab": {
          "base_uri": "https://localhost:8080/"
        },
        "id": "wLWjPxzb16-e",
        "outputId": "eb48d474-b6e2-47e7-afaf-8cbe7d4ab111"
      },
      "outputs": [
        {
          "output_type": "stream",
          "name": "stdout",
          "text": [
            "Archive:  /content/datos_abiertos_covid19.zip\n",
            "  inflating: COVID19MEXICO.csv       \n"
          ]
        }
      ],
      "source": [
        "!unzip /content/datos_abiertos_covid19.zip"
      ]
    },
    {
      "cell_type": "markdown",
      "metadata": {
        "id": "_ApxRtVP16-e"
      },
      "source": [
        "### Instalación de Bibliotecas"
      ]
    },
    {
      "cell_type": "code",
      "execution_count": null,
      "metadata": {
        "colab": {
          "base_uri": "https://localhost:8080/",
          "height": 1000
        },
        "id": "gbZUjJJt16-g",
        "outputId": "de1b332f-4024-4878-bf0c-dd529e0157e9"
      },
      "outputs": [
        {
          "output_type": "stream",
          "name": "stdout",
          "text": [
            "Collecting gradio\n",
            "  Downloading gradio-4.2.0-py3-none-any.whl (15.4 MB)\n",
            "\u001b[2K     \u001b[90m━━━━━━━━━━━━━━━━━━━━━━━━━━━━━━━━━━━━━━━━\u001b[0m \u001b[32m15.4/15.4 MB\u001b[0m \u001b[31m38.0 MB/s\u001b[0m eta \u001b[36m0:00:00\u001b[0m\n",
            "\u001b[?25hCollecting aiofiles<24.0,>=22.0 (from gradio)\n",
            "  Downloading aiofiles-23.2.1-py3-none-any.whl (15 kB)\n",
            "Requirement already satisfied: altair<6.0,>=4.2.0 in /usr/local/lib/python3.10/dist-packages (from gradio) (4.2.2)\n",
            "Collecting fastapi (from gradio)\n",
            "  Downloading fastapi-0.104.1-py3-none-any.whl (92 kB)\n",
            "\u001b[2K     \u001b[90m━━━━━━━━━━━━━━━━━━━━━━━━━━━━━━━━━━━━━━━━\u001b[0m \u001b[32m92.9/92.9 kB\u001b[0m \u001b[31m10.3 MB/s\u001b[0m eta \u001b[36m0:00:00\u001b[0m\n",
            "\u001b[?25hCollecting ffmpy (from gradio)\n",
            "  Downloading ffmpy-0.3.1.tar.gz (5.5 kB)\n",
            "  Preparing metadata (setup.py) ... \u001b[?25l\u001b[?25hdone\n",
            "Collecting gradio-client==0.7.0 (from gradio)\n",
            "  Downloading gradio_client-0.7.0-py3-none-any.whl (302 kB)\n",
            "\u001b[2K     \u001b[90m━━━━━━━━━━━━━━━━━━━━━━━━━━━━━━━━━━━━━━━━\u001b[0m \u001b[32m302.7/302.7 kB\u001b[0m \u001b[31m27.8 MB/s\u001b[0m eta \u001b[36m0:00:00\u001b[0m\n",
            "\u001b[?25hCollecting httpx (from gradio)\n",
            "  Downloading httpx-0.25.1-py3-none-any.whl (75 kB)\n",
            "\u001b[2K     \u001b[90m━━━━━━━━━━━━━━━━━━━━━━━━━━━━━━━━━━━━━━━━\u001b[0m \u001b[32m75.0/75.0 kB\u001b[0m \u001b[31m10.0 MB/s\u001b[0m eta \u001b[36m0:00:00\u001b[0m\n",
            "\u001b[?25hCollecting huggingface-hub>=0.14.0 (from gradio)\n",
            "  Downloading huggingface_hub-0.19.0-py3-none-any.whl (311 kB)\n",
            "\u001b[2K     \u001b[90m━━━━━━━━━━━━━━━━━━━━━━━━━━━━━━━━━━━━━━━━\u001b[0m \u001b[32m311.2/311.2 kB\u001b[0m \u001b[31m29.3 MB/s\u001b[0m eta \u001b[36m0:00:00\u001b[0m\n",
            "\u001b[?25hRequirement already satisfied: importlib-resources<7.0,>=1.3 in /usr/local/lib/python3.10/dist-packages (from gradio) (6.1.1)\n",
            "Requirement already satisfied: jinja2<4.0 in /usr/local/lib/python3.10/dist-packages (from gradio) (3.1.2)\n",
            "Requirement already satisfied: markupsafe~=2.0 in /usr/local/lib/python3.10/dist-packages (from gradio) (2.1.3)\n",
            "Requirement already satisfied: matplotlib~=3.0 in /usr/local/lib/python3.10/dist-packages (from gradio) (3.7.1)\n",
            "Requirement already satisfied: numpy~=1.0 in /usr/local/lib/python3.10/dist-packages (from gradio) (1.23.5)\n",
            "Collecting orjson~=3.0 (from gradio)\n",
            "  Downloading orjson-3.9.10-cp310-cp310-manylinux_2_17_x86_64.manylinux2014_x86_64.whl (138 kB)\n",
            "\u001b[2K     \u001b[90m━━━━━━━━━━━━━━━━━━━━━━━━━━━━━━━━━━━━━━━━\u001b[0m \u001b[32m138.7/138.7 kB\u001b[0m \u001b[31m16.5 MB/s\u001b[0m eta \u001b[36m0:00:00\u001b[0m\n",
            "\u001b[?25hRequirement already satisfied: packaging in /usr/local/lib/python3.10/dist-packages (from gradio) (23.2)\n",
            "Requirement already satisfied: pandas<3.0,>=1.0 in /usr/local/lib/python3.10/dist-packages (from gradio) (1.5.3)\n",
            "Requirement already satisfied: pillow<11.0,>=8.0 in /usr/local/lib/python3.10/dist-packages (from gradio) (9.4.0)\n",
            "Collecting pydantic>=2.0 (from gradio)\n",
            "  Downloading pydantic-2.4.2-py3-none-any.whl (395 kB)\n",
            "\u001b[2K     \u001b[90m━━━━━━━━━━━━━━━━━━━━━━━━━━━━━━━━━━━━━━━━\u001b[0m \u001b[32m395.8/395.8 kB\u001b[0m \u001b[31m40.0 MB/s\u001b[0m eta \u001b[36m0:00:00\u001b[0m\n",
            "\u001b[?25hCollecting pydub (from gradio)\n",
            "  Downloading pydub-0.25.1-py2.py3-none-any.whl (32 kB)\n",
            "Collecting python-multipart (from gradio)\n",
            "  Downloading python_multipart-0.0.6-py3-none-any.whl (45 kB)\n",
            "\u001b[2K     \u001b[90m━━━━━━━━━━━━━━━━━━━━━━━━━━━━━━━━━━━━━━━━\u001b[0m \u001b[32m45.7/45.7 kB\u001b[0m \u001b[31m3.9 MB/s\u001b[0m eta \u001b[36m0:00:00\u001b[0m\n",
            "\u001b[?25hRequirement already satisfied: pyyaml<7.0,>=5.0 in /usr/local/lib/python3.10/dist-packages (from gradio) (6.0.1)\n",
            "Requirement already satisfied: requests~=2.0 in /usr/local/lib/python3.10/dist-packages (from gradio) (2.31.0)\n",
            "Collecting semantic-version~=2.0 (from gradio)\n",
            "  Downloading semantic_version-2.10.0-py2.py3-none-any.whl (15 kB)\n",
            "Collecting tomlkit==0.12.0 (from gradio)\n",
            "  Downloading tomlkit-0.12.0-py3-none-any.whl (37 kB)\n",
            "Requirement already satisfied: typer[all]<1.0,>=0.9 in /usr/local/lib/python3.10/dist-packages (from gradio) (0.9.0)\n",
            "Requirement already satisfied: typing-extensions~=4.0 in /usr/local/lib/python3.10/dist-packages (from gradio) (4.5.0)\n",
            "Collecting uvicorn>=0.14.0 (from gradio)\n",
            "  Downloading uvicorn-0.24.0.post1-py3-none-any.whl (59 kB)\n",
            "\u001b[2K     \u001b[90m━━━━━━━━━━━━━━━━━━━━━━━━━━━━━━━━━━━━━━━━\u001b[0m \u001b[32m59.7/59.7 kB\u001b[0m \u001b[31m8.4 MB/s\u001b[0m eta \u001b[36m0:00:00\u001b[0m\n",
            "\u001b[?25hCollecting websockets<12.0,>=10.0 (from gradio)\n",
            "  Downloading websockets-11.0.3-cp310-cp310-manylinux_2_5_x86_64.manylinux1_x86_64.manylinux_2_17_x86_64.manylinux2014_x86_64.whl (129 kB)\n",
            "\u001b[2K     \u001b[90m━━━━━━━━━━━━━━━━━━━━━━━━━━━━━━━━━━━━━━━━\u001b[0m \u001b[32m129.9/129.9 kB\u001b[0m \u001b[31m19.3 MB/s\u001b[0m eta \u001b[36m0:00:00\u001b[0m\n",
            "\u001b[?25hRequirement already satisfied: fsspec in /usr/local/lib/python3.10/dist-packages (from gradio-client==0.7.0->gradio) (2023.6.0)\n",
            "Requirement already satisfied: entrypoints in /usr/local/lib/python3.10/dist-packages (from altair<6.0,>=4.2.0->gradio) (0.4)\n",
            "Requirement already satisfied: jsonschema>=3.0 in /usr/local/lib/python3.10/dist-packages (from altair<6.0,>=4.2.0->gradio) (4.19.2)\n",
            "Requirement already satisfied: toolz in /usr/local/lib/python3.10/dist-packages (from altair<6.0,>=4.2.0->gradio) (0.12.0)\n",
            "Requirement already satisfied: filelock in /usr/local/lib/python3.10/dist-packages (from huggingface-hub>=0.14.0->gradio) (3.13.1)\n",
            "Requirement already satisfied: tqdm>=4.42.1 in /usr/local/lib/python3.10/dist-packages (from huggingface-hub>=0.14.0->gradio) (4.66.1)\n",
            "Requirement already satisfied: contourpy>=1.0.1 in /usr/local/lib/python3.10/dist-packages (from matplotlib~=3.0->gradio) (1.2.0)\n",
            "Requirement already satisfied: cycler>=0.10 in /usr/local/lib/python3.10/dist-packages (from matplotlib~=3.0->gradio) (0.12.1)\n",
            "Requirement already satisfied: fonttools>=4.22.0 in /usr/local/lib/python3.10/dist-packages (from matplotlib~=3.0->gradio) (4.44.0)\n",
            "Requirement already satisfied: kiwisolver>=1.0.1 in /usr/local/lib/python3.10/dist-packages (from matplotlib~=3.0->gradio) (1.4.5)\n",
            "Requirement already satisfied: pyparsing>=2.3.1 in /usr/local/lib/python3.10/dist-packages (from matplotlib~=3.0->gradio) (3.1.1)\n",
            "Requirement already satisfied: python-dateutil>=2.7 in /usr/local/lib/python3.10/dist-packages (from matplotlib~=3.0->gradio) (2.8.2)\n",
            "Requirement already satisfied: pytz>=2020.1 in /usr/local/lib/python3.10/dist-packages (from pandas<3.0,>=1.0->gradio) (2023.3.post1)\n",
            "Collecting annotated-types>=0.4.0 (from pydantic>=2.0->gradio)\n",
            "  Downloading annotated_types-0.6.0-py3-none-any.whl (12 kB)\n",
            "Collecting pydantic-core==2.10.1 (from pydantic>=2.0->gradio)\n",
            "  Downloading pydantic_core-2.10.1-cp310-cp310-manylinux_2_17_x86_64.manylinux2014_x86_64.whl (2.0 MB)\n",
            "\u001b[2K     \u001b[90m━━━━━━━━━━━━━━━━━━━━━━━━━━━━━━━━━━━━━━━━\u001b[0m \u001b[32m2.0/2.0 MB\u001b[0m \u001b[31m56.3 MB/s\u001b[0m eta \u001b[36m0:00:00\u001b[0m\n",
            "\u001b[?25hCollecting typing-extensions~=4.0 (from gradio)\n",
            "  Downloading typing_extensions-4.8.0-py3-none-any.whl (31 kB)\n",
            "Requirement already satisfied: charset-normalizer<4,>=2 in /usr/local/lib/python3.10/dist-packages (from requests~=2.0->gradio) (3.3.2)\n",
            "Requirement already satisfied: idna<4,>=2.5 in /usr/local/lib/python3.10/dist-packages (from requests~=2.0->gradio) (3.4)\n",
            "Requirement already satisfied: urllib3<3,>=1.21.1 in /usr/local/lib/python3.10/dist-packages (from requests~=2.0->gradio) (2.0.7)\n",
            "Requirement already satisfied: certifi>=2017.4.17 in /usr/local/lib/python3.10/dist-packages (from requests~=2.0->gradio) (2023.7.22)\n",
            "Requirement already satisfied: click<9.0.0,>=7.1.1 in /usr/local/lib/python3.10/dist-packages (from typer[all]<1.0,>=0.9->gradio) (8.1.7)\n",
            "Collecting colorama<0.5.0,>=0.4.3 (from typer[all]<1.0,>=0.9->gradio)\n",
            "  Downloading colorama-0.4.6-py2.py3-none-any.whl (25 kB)\n",
            "Collecting shellingham<2.0.0,>=1.3.0 (from typer[all]<1.0,>=0.9->gradio)\n",
            "  Downloading shellingham-1.5.4-py2.py3-none-any.whl (9.8 kB)\n",
            "Requirement already satisfied: rich<14.0.0,>=10.11.0 in /usr/local/lib/python3.10/dist-packages (from typer[all]<1.0,>=0.9->gradio) (13.6.0)\n",
            "Collecting h11>=0.8 (from uvicorn>=0.14.0->gradio)\n",
            "  Downloading h11-0.14.0-py3-none-any.whl (58 kB)\n",
            "\u001b[2K     \u001b[90m━━━━━━━━━━━━━━━━━━━━━━━━━━━━━━━━━━━━━━━━\u001b[0m \u001b[32m58.3/58.3 kB\u001b[0m \u001b[31m8.3 MB/s\u001b[0m eta \u001b[36m0:00:00\u001b[0m\n",
            "\u001b[?25hRequirement already satisfied: anyio<4.0.0,>=3.7.1 in /usr/local/lib/python3.10/dist-packages (from fastapi->gradio) (3.7.1)\n",
            "Collecting starlette<0.28.0,>=0.27.0 (from fastapi->gradio)\n",
            "  Downloading starlette-0.27.0-py3-none-any.whl (66 kB)\n",
            "\u001b[2K     \u001b[90m━━━━━━━━━━━━━━━━━━━━━━━━━━━━━━━━━━━━━━━━\u001b[0m \u001b[32m67.0/67.0 kB\u001b[0m \u001b[31m8.8 MB/s\u001b[0m eta \u001b[36m0:00:00\u001b[0m\n",
            "\u001b[?25hCollecting httpcore (from httpx->gradio)\n",
            "  Downloading httpcore-1.0.2-py3-none-any.whl (76 kB)\n",
            "\u001b[2K     \u001b[90m━━━━━━━━━━━━━━━━━━━━━━━━━━━━━━━━━━━━━━━━\u001b[0m \u001b[32m76.9/76.9 kB\u001b[0m \u001b[31m10.5 MB/s\u001b[0m eta \u001b[36m0:00:00\u001b[0m\n",
            "\u001b[?25hRequirement already satisfied: sniffio in /usr/local/lib/python3.10/dist-packages (from httpx->gradio) (1.3.0)\n",
            "Requirement already satisfied: exceptiongroup in /usr/local/lib/python3.10/dist-packages (from anyio<4.0.0,>=3.7.1->fastapi->gradio) (1.1.3)\n",
            "Requirement already satisfied: attrs>=22.2.0 in /usr/local/lib/python3.10/dist-packages (from jsonschema>=3.0->altair<6.0,>=4.2.0->gradio) (23.1.0)\n",
            "Requirement already satisfied: jsonschema-specifications>=2023.03.6 in /usr/local/lib/python3.10/dist-packages (from jsonschema>=3.0->altair<6.0,>=4.2.0->gradio) (2023.7.1)\n",
            "Requirement already satisfied: referencing>=0.28.4 in /usr/local/lib/python3.10/dist-packages (from jsonschema>=3.0->altair<6.0,>=4.2.0->gradio) (0.30.2)\n",
            "Requirement already satisfied: rpds-py>=0.7.1 in /usr/local/lib/python3.10/dist-packages (from jsonschema>=3.0->altair<6.0,>=4.2.0->gradio) (0.12.0)\n",
            "Requirement already satisfied: six>=1.5 in /usr/local/lib/python3.10/dist-packages (from python-dateutil>=2.7->matplotlib~=3.0->gradio) (1.16.0)\n",
            "Requirement already satisfied: markdown-it-py>=2.2.0 in /usr/local/lib/python3.10/dist-packages (from rich<14.0.0,>=10.11.0->typer[all]<1.0,>=0.9->gradio) (3.0.0)\n",
            "Requirement already satisfied: pygments<3.0.0,>=2.13.0 in /usr/local/lib/python3.10/dist-packages (from rich<14.0.0,>=10.11.0->typer[all]<1.0,>=0.9->gradio) (2.16.1)\n",
            "Requirement already satisfied: mdurl~=0.1 in /usr/local/lib/python3.10/dist-packages (from markdown-it-py>=2.2.0->rich<14.0.0,>=10.11.0->typer[all]<1.0,>=0.9->gradio) (0.1.2)\n",
            "Building wheels for collected packages: ffmpy\n",
            "  Building wheel for ffmpy (setup.py) ... \u001b[?25l\u001b[?25hdone\n",
            "  Created wheel for ffmpy: filename=ffmpy-0.3.1-py3-none-any.whl size=5579 sha256=7171924a074aa6e387524422fbe5a837547363339dc914b40802d87c3b312a40\n",
            "  Stored in directory: /root/.cache/pip/wheels/01/a6/d1/1c0828c304a4283b2c1639a09ad86f83d7c487ef34c6b4a1bf\n",
            "Successfully built ffmpy\n",
            "Installing collected packages: pydub, ffmpy, websockets, typing-extensions, tomlkit, shellingham, semantic-version, python-multipart, orjson, h11, colorama, annotated-types, aiofiles, uvicorn, starlette, pydantic-core, huggingface-hub, httpcore, pydantic, httpx, gradio-client, fastapi, gradio\n",
            "  Attempting uninstall: typing-extensions\n",
            "    Found existing installation: typing_extensions 4.5.0\n",
            "    Uninstalling typing_extensions-4.5.0:\n",
            "      Successfully uninstalled typing_extensions-4.5.0\n",
            "  Attempting uninstall: pydantic\n",
            "    Found existing installation: pydantic 1.10.13\n",
            "    Uninstalling pydantic-1.10.13:\n",
            "      Successfully uninstalled pydantic-1.10.13\n",
            "\u001b[31mERROR: pip's dependency resolver does not currently take into account all the packages that are installed. This behaviour is the source of the following dependency conflicts.\n",
            "lida 0.0.10 requires kaleido, which is not installed.\n",
            "llmx 0.0.15a0 requires cohere, which is not installed.\n",
            "llmx 0.0.15a0 requires openai, which is not installed.\n",
            "llmx 0.0.15a0 requires tiktoken, which is not installed.\n",
            "tensorflow-probability 0.22.0 requires typing-extensions<4.6.0, but you have typing-extensions 4.8.0 which is incompatible.\u001b[0m\u001b[31m\n",
            "\u001b[0mSuccessfully installed aiofiles-23.2.1 annotated-types-0.6.0 colorama-0.4.6 fastapi-0.104.1 ffmpy-0.3.1 gradio-4.2.0 gradio-client-0.7.0 h11-0.14.0 httpcore-1.0.2 httpx-0.25.1 huggingface-hub-0.19.0 orjson-3.9.10 pydantic-2.4.2 pydantic-core-2.10.1 pydub-0.25.1 python-multipart-0.0.6 semantic-version-2.10.0 shellingham-1.5.4 starlette-0.27.0 tomlkit-0.12.0 typing-extensions-4.8.0 uvicorn-0.24.0.post1 websockets-11.0.3\n",
            "Requirement already satisfied: typing-extensions in /usr/local/lib/python3.10/dist-packages (4.8.0)\n",
            "Requirement already satisfied: gradio in /usr/local/lib/python3.10/dist-packages (4.2.0)\n",
            "Requirement already satisfied: aiofiles<24.0,>=22.0 in /usr/local/lib/python3.10/dist-packages (from gradio) (23.2.1)\n",
            "Requirement already satisfied: altair<6.0,>=4.2.0 in /usr/local/lib/python3.10/dist-packages (from gradio) (4.2.2)\n",
            "Requirement already satisfied: fastapi in /usr/local/lib/python3.10/dist-packages (from gradio) (0.104.1)\n",
            "Requirement already satisfied: ffmpy in /usr/local/lib/python3.10/dist-packages (from gradio) (0.3.1)\n",
            "Requirement already satisfied: gradio-client==0.7.0 in /usr/local/lib/python3.10/dist-packages (from gradio) (0.7.0)\n",
            "Requirement already satisfied: httpx in /usr/local/lib/python3.10/dist-packages (from gradio) (0.25.1)\n",
            "Requirement already satisfied: huggingface-hub>=0.14.0 in /usr/local/lib/python3.10/dist-packages (from gradio) (0.19.0)\n",
            "Requirement already satisfied: importlib-resources<7.0,>=1.3 in /usr/local/lib/python3.10/dist-packages (from gradio) (6.1.1)\n",
            "Requirement already satisfied: jinja2<4.0 in /usr/local/lib/python3.10/dist-packages (from gradio) (3.1.2)\n",
            "Requirement already satisfied: markupsafe~=2.0 in /usr/local/lib/python3.10/dist-packages (from gradio) (2.1.3)\n",
            "Requirement already satisfied: matplotlib~=3.0 in /usr/local/lib/python3.10/dist-packages (from gradio) (3.7.1)\n",
            "Requirement already satisfied: numpy~=1.0 in /usr/local/lib/python3.10/dist-packages (from gradio) (1.23.5)\n",
            "Requirement already satisfied: orjson~=3.0 in /usr/local/lib/python3.10/dist-packages (from gradio) (3.9.10)\n",
            "Requirement already satisfied: packaging in /usr/local/lib/python3.10/dist-packages (from gradio) (23.2)\n",
            "Requirement already satisfied: pandas<3.0,>=1.0 in /usr/local/lib/python3.10/dist-packages (from gradio) (1.5.3)\n",
            "Requirement already satisfied: pillow<11.0,>=8.0 in /usr/local/lib/python3.10/dist-packages (from gradio) (9.4.0)\n",
            "Requirement already satisfied: pydantic>=2.0 in /usr/local/lib/python3.10/dist-packages (from gradio) (2.4.2)\n",
            "Requirement already satisfied: pydub in /usr/local/lib/python3.10/dist-packages (from gradio) (0.25.1)\n",
            "Requirement already satisfied: python-multipart in /usr/local/lib/python3.10/dist-packages (from gradio) (0.0.6)\n",
            "Requirement already satisfied: pyyaml<7.0,>=5.0 in /usr/local/lib/python3.10/dist-packages (from gradio) (6.0.1)\n",
            "Requirement already satisfied: requests~=2.0 in /usr/local/lib/python3.10/dist-packages (from gradio) (2.31.0)\n",
            "Requirement already satisfied: semantic-version~=2.0 in /usr/local/lib/python3.10/dist-packages (from gradio) (2.10.0)\n",
            "Requirement already satisfied: tomlkit==0.12.0 in /usr/local/lib/python3.10/dist-packages (from gradio) (0.12.0)\n",
            "Requirement already satisfied: typer[all]<1.0,>=0.9 in /usr/local/lib/python3.10/dist-packages (from gradio) (0.9.0)\n",
            "Requirement already satisfied: typing-extensions~=4.0 in /usr/local/lib/python3.10/dist-packages (from gradio) (4.8.0)\n",
            "Requirement already satisfied: uvicorn>=0.14.0 in /usr/local/lib/python3.10/dist-packages (from gradio) (0.24.0.post1)\n",
            "Requirement already satisfied: websockets<12.0,>=10.0 in /usr/local/lib/python3.10/dist-packages (from gradio) (11.0.3)\n",
            "Requirement already satisfied: fsspec in /usr/local/lib/python3.10/dist-packages (from gradio-client==0.7.0->gradio) (2023.6.0)\n",
            "Requirement already satisfied: entrypoints in /usr/local/lib/python3.10/dist-packages (from altair<6.0,>=4.2.0->gradio) (0.4)\n",
            "Requirement already satisfied: jsonschema>=3.0 in /usr/local/lib/python3.10/dist-packages (from altair<6.0,>=4.2.0->gradio) (4.19.2)\n",
            "Requirement already satisfied: toolz in /usr/local/lib/python3.10/dist-packages (from altair<6.0,>=4.2.0->gradio) (0.12.0)\n",
            "Requirement already satisfied: filelock in /usr/local/lib/python3.10/dist-packages (from huggingface-hub>=0.14.0->gradio) (3.13.1)\n",
            "Requirement already satisfied: tqdm>=4.42.1 in /usr/local/lib/python3.10/dist-packages (from huggingface-hub>=0.14.0->gradio) (4.66.1)\n",
            "Requirement already satisfied: contourpy>=1.0.1 in /usr/local/lib/python3.10/dist-packages (from matplotlib~=3.0->gradio) (1.2.0)\n",
            "Requirement already satisfied: cycler>=0.10 in /usr/local/lib/python3.10/dist-packages (from matplotlib~=3.0->gradio) (0.12.1)\n",
            "Requirement already satisfied: fonttools>=4.22.0 in /usr/local/lib/python3.10/dist-packages (from matplotlib~=3.0->gradio) (4.44.0)\n",
            "Requirement already satisfied: kiwisolver>=1.0.1 in /usr/local/lib/python3.10/dist-packages (from matplotlib~=3.0->gradio) (1.4.5)\n",
            "Requirement already satisfied: pyparsing>=2.3.1 in /usr/local/lib/python3.10/dist-packages (from matplotlib~=3.0->gradio) (3.1.1)\n",
            "Requirement already satisfied: python-dateutil>=2.7 in /usr/local/lib/python3.10/dist-packages (from matplotlib~=3.0->gradio) (2.8.2)\n",
            "Requirement already satisfied: pytz>=2020.1 in /usr/local/lib/python3.10/dist-packages (from pandas<3.0,>=1.0->gradio) (2023.3.post1)\n",
            "Requirement already satisfied: annotated-types>=0.4.0 in /usr/local/lib/python3.10/dist-packages (from pydantic>=2.0->gradio) (0.6.0)\n",
            "Requirement already satisfied: pydantic-core==2.10.1 in /usr/local/lib/python3.10/dist-packages (from pydantic>=2.0->gradio) (2.10.1)\n",
            "Requirement already satisfied: charset-normalizer<4,>=2 in /usr/local/lib/python3.10/dist-packages (from requests~=2.0->gradio) (3.3.2)\n",
            "Requirement already satisfied: idna<4,>=2.5 in /usr/local/lib/python3.10/dist-packages (from requests~=2.0->gradio) (3.4)\n",
            "Requirement already satisfied: urllib3<3,>=1.21.1 in /usr/local/lib/python3.10/dist-packages (from requests~=2.0->gradio) (2.0.7)\n",
            "Requirement already satisfied: certifi>=2017.4.17 in /usr/local/lib/python3.10/dist-packages (from requests~=2.0->gradio) (2023.7.22)\n",
            "Requirement already satisfied: click<9.0.0,>=7.1.1 in /usr/local/lib/python3.10/dist-packages (from typer[all]<1.0,>=0.9->gradio) (8.1.7)\n",
            "Requirement already satisfied: colorama<0.5.0,>=0.4.3 in /usr/local/lib/python3.10/dist-packages (from typer[all]<1.0,>=0.9->gradio) (0.4.6)\n",
            "Requirement already satisfied: shellingham<2.0.0,>=1.3.0 in /usr/local/lib/python3.10/dist-packages (from typer[all]<1.0,>=0.9->gradio) (1.5.4)\n",
            "Requirement already satisfied: rich<14.0.0,>=10.11.0 in /usr/local/lib/python3.10/dist-packages (from typer[all]<1.0,>=0.9->gradio) (13.6.0)\n",
            "Requirement already satisfied: h11>=0.8 in /usr/local/lib/python3.10/dist-packages (from uvicorn>=0.14.0->gradio) (0.14.0)\n",
            "Requirement already satisfied: anyio<4.0.0,>=3.7.1 in /usr/local/lib/python3.10/dist-packages (from fastapi->gradio) (3.7.1)\n",
            "Requirement already satisfied: starlette<0.28.0,>=0.27.0 in /usr/local/lib/python3.10/dist-packages (from fastapi->gradio) (0.27.0)\n",
            "Requirement already satisfied: httpcore in /usr/local/lib/python3.10/dist-packages (from httpx->gradio) (1.0.2)\n",
            "Requirement already satisfied: sniffio in /usr/local/lib/python3.10/dist-packages (from httpx->gradio) (1.3.0)\n",
            "Requirement already satisfied: exceptiongroup in /usr/local/lib/python3.10/dist-packages (from anyio<4.0.0,>=3.7.1->fastapi->gradio) (1.1.3)\n",
            "Requirement already satisfied: attrs>=22.2.0 in /usr/local/lib/python3.10/dist-packages (from jsonschema>=3.0->altair<6.0,>=4.2.0->gradio) (23.1.0)\n",
            "Requirement already satisfied: jsonschema-specifications>=2023.03.6 in /usr/local/lib/python3.10/dist-packages (from jsonschema>=3.0->altair<6.0,>=4.2.0->gradio) (2023.7.1)\n",
            "Requirement already satisfied: referencing>=0.28.4 in /usr/local/lib/python3.10/dist-packages (from jsonschema>=3.0->altair<6.0,>=4.2.0->gradio) (0.30.2)\n",
            "Requirement already satisfied: rpds-py>=0.7.1 in /usr/local/lib/python3.10/dist-packages (from jsonschema>=3.0->altair<6.0,>=4.2.0->gradio) (0.12.0)\n",
            "Requirement already satisfied: six>=1.5 in /usr/local/lib/python3.10/dist-packages (from python-dateutil>=2.7->matplotlib~=3.0->gradio) (1.16.0)\n",
            "Requirement already satisfied: markdown-it-py>=2.2.0 in /usr/local/lib/python3.10/dist-packages (from rich<14.0.0,>=10.11.0->typer[all]<1.0,>=0.9->gradio) (3.0.0)\n",
            "Requirement already satisfied: pygments<3.0.0,>=2.13.0 in /usr/local/lib/python3.10/dist-packages (from rich<14.0.0,>=10.11.0->typer[all]<1.0,>=0.9->gradio) (2.16.1)\n",
            "Requirement already satisfied: mdurl~=0.1 in /usr/local/lib/python3.10/dist-packages (from markdown-it-py>=2.2.0->rich<14.0.0,>=10.11.0->typer[all]<1.0,>=0.9->gradio) (0.1.2)\n",
            "Collecting kaleido\n",
            "  Downloading kaleido-0.2.1-py2.py3-none-manylinux1_x86_64.whl (79.9 MB)\n",
            "\u001b[2K     \u001b[90m━━━━━━━━━━━━━━━━━━━━━━━━━━━━━━━━━━━━━━━━\u001b[0m \u001b[32m79.9/79.9 MB\u001b[0m \u001b[31m8.7 MB/s\u001b[0m eta \u001b[36m0:00:00\u001b[0m\n",
            "\u001b[?25hInstalling collected packages: kaleido\n",
            "Successfully installed kaleido-0.2.1\n",
            "Requirement already satisfied: setuptools in /usr/local/lib/python3.10/dist-packages (67.7.2)\n",
            "Collecting setuptools\n",
            "  Downloading setuptools-68.2.2-py3-none-any.whl (807 kB)\n",
            "\u001b[2K     \u001b[90m━━━━━━━━━━━━━━━━━━━━━━━━━━━━━━━━━━━━━━━━\u001b[0m \u001b[32m807.9/807.9 kB\u001b[0m \u001b[31m6.5 MB/s\u001b[0m eta \u001b[36m0:00:00\u001b[0m\n",
            "\u001b[?25hInstalling collected packages: setuptools\n",
            "  Attempting uninstall: setuptools\n",
            "    Found existing installation: setuptools 67.7.2\n",
            "    Uninstalling setuptools-67.7.2:\n",
            "      Successfully uninstalled setuptools-67.7.2\n",
            "\u001b[31mERROR: pip's dependency resolver does not currently take into account all the packages that are installed. This behaviour is the source of the following dependency conflicts.\n",
            "ipython 7.34.0 requires jedi>=0.16, which is not installed.\u001b[0m\u001b[31m\n",
            "\u001b[0mSuccessfully installed setuptools-68.2.2\n"
          ]
        },
        {
          "output_type": "display_data",
          "data": {
            "application/vnd.colab-display-data+json": {
              "pip_warning": {
                "packages": [
                  "_distutils_hack",
                  "pkg_resources",
                  "setuptools"
                ]
              }
            }
          },
          "metadata": {}
        },
        {
          "output_type": "stream",
          "name": "stdout",
          "text": [
            "Requirement already satisfied: pydotplus in /usr/local/lib/python3.10/dist-packages (2.0.2)\n",
            "Requirement already satisfied: pyparsing>=2.0.1 in /usr/local/lib/python3.10/dist-packages (from pydotplus) (3.1.1)\n",
            "Requirement already satisfied: scikit-learn in /usr/local/lib/python3.10/dist-packages (1.2.2)\n",
            "Requirement already satisfied: numpy>=1.17.3 in /usr/local/lib/python3.10/dist-packages (from scikit-learn) (1.23.5)\n",
            "Requirement already satisfied: scipy>=1.3.2 in /usr/local/lib/python3.10/dist-packages (from scikit-learn) (1.11.3)\n",
            "Requirement already satisfied: joblib>=1.1.1 in /usr/local/lib/python3.10/dist-packages (from scikit-learn) (1.3.2)\n",
            "Requirement already satisfied: threadpoolctl>=2.0.0 in /usr/local/lib/python3.10/dist-packages (from scikit-learn) (3.2.0)\n"
          ]
        }
      ],
      "source": [
        "!pip install gradio\n",
        "!pip install --upgrade typing-extensions\n",
        "!pip install gradio --upgrade\n",
        "!pip install kaleido\n",
        "!pip install --upgrade setuptools\n",
        "!pip install pydotplus\n",
        "!pip install scikit-learn"
      ]
    },
    {
      "cell_type": "markdown",
      "metadata": {
        "id": "r74wvkdv16-h"
      },
      "source": [
        "### Importaciones de Bibliotecas\n",
        "En esta sección, se realizan las importaciones necesarias de bibliotecas para operaciones numéricas, manipulación de datos, configuración regional, generación de gráficos, y más. Las bibliotecas están organizadas y comentadas para facilitar la comprensión del código."
      ]
    },
    {
      "cell_type": "code",
      "execution_count": null,
      "metadata": {
        "id": "YRqpyFyp16-h"
      },
      "outputs": [],
      "source": [
        "import warnings  # Gestión de advertencias\n",
        "warnings.filterwarnings(\"ignore\")  # Ignorar las advertencias"
      ]
    },
    {
      "cell_type": "code",
      "execution_count": null,
      "metadata": {
        "id": "yB07zmn416-i"
      },
      "outputs": [],
      "source": [
        "# Operaciones numéricas y manipulación de datos\n",
        "import numpy as np\n",
        "import pandas as pd"
      ]
    },
    {
      "cell_type": "code",
      "execution_count": null,
      "metadata": {
        "id": "fzc5qbli16-i"
      },
      "outputs": [],
      "source": [
        "# Configuración regional y generación de gráficos\n",
        "import locale  # Configuración regional para manejo de formatos numéricos y de fecha\n",
        "import pydotplus  # Generación de gráficos de árboles de decisión\n",
        "from six import StringIO  # Manipulación de cadenas de texto en memoria"
      ]
    },
    {
      "cell_type": "code",
      "execution_count": null,
      "metadata": {
        "id": "jQoSzdrO16-j"
      },
      "outputs": [],
      "source": [
        "# Interfaz de usuario interactiva\n",
        "import gradio as gr  # Biblioteca para crear interfaces de usuario interactivas"
      ]
    },
    {
      "cell_type": "code",
      "execution_count": null,
      "metadata": {
        "id": "nMlwBVTD16-j"
      },
      "outputs": [],
      "source": [
        "# Aprendizaje automático y métricas\n",
        "from sklearn.preprocessing import LabelEncoder  # Codificación de etiquetas\n",
        "from sklearn.model_selection import train_test_split  # División de datos en conjuntos de entrenamiento y prueba\n",
        "from sklearn.ensemble import RandomForestClassifier  # Clasificador de bosques aleatorios\n",
        "from sklearn.metrics import classification_report  # Informe de clasificación\n",
        "from sklearn.neighbors import KNeighborsClassifier\n",
        "from sklearn.metrics import accuracy_score"
      ]
    },
    {
      "cell_type": "code",
      "execution_count": null,
      "metadata": {
        "id": "pdikKGLj16-k"
      },
      "outputs": [],
      "source": [
        "# Definición de una nueva función llamada getpreferredencoding\n",
        "def getpreferredencoding(do_setlocale=True):\n",
        "    # La nueva implementación siempre devuelve \"UTF-8\"\n",
        "    return \"UTF-8\"\n",
        "# Sobrescribe la función getpreferredencoding en el módulo locale con la nueva implementación definida anteriormente\n",
        "locale.getpreferredencoding = getpreferredencoding"
      ]
    },
    {
      "cell_type": "code",
      "execution_count": null,
      "metadata": {
        "colab": {
          "base_uri": "https://localhost:8080/"
        },
        "id": "tfyhWaYa16-k",
        "outputId": "d293afcd-dec7-4cb9-9513-3b9ec8cdeaa6"
      },
      "outputs": [
        {
          "output_type": "stream",
          "name": "stdout",
          "text": [
            "<class 'pandas.core.frame.DataFrame'>\n",
            "RangeIndex: 1186694 entries, 0 to 1186693\n",
            "Data columns (total 40 columns):\n",
            " #   Column                 Non-Null Count    Dtype \n",
            "---  ------                 --------------    ----- \n",
            " 0   FECHA_ACTUALIZACION    1186694 non-null  object\n",
            " 1   ID_REGISTRO            1186694 non-null  object\n",
            " 2   ORIGEN                 1186694 non-null  int64 \n",
            " 3   SECTOR                 1186694 non-null  int64 \n",
            " 4   ENTIDAD_UM             1186694 non-null  int64 \n",
            " 5   SEXO                   1186694 non-null  int64 \n",
            " 6   ENTIDAD_NAC            1186694 non-null  int64 \n",
            " 7   ENTIDAD_RES            1186694 non-null  int64 \n",
            " 8   MUNICIPIO_RES          1186694 non-null  int64 \n",
            " 9   TIPO_PACIENTE          1186694 non-null  int64 \n",
            " 10  FECHA_INGRESO          1186694 non-null  object\n",
            " 11  FECHA_SINTOMAS         1186694 non-null  object\n",
            " 12  FECHA_DEF              1186694 non-null  object\n",
            " 13  INTUBADO               1186694 non-null  int64 \n",
            " 14  NEUMONIA               1186694 non-null  int64 \n",
            " 15  EDAD                   1186694 non-null  int64 \n",
            " 16  NACIONALIDAD           1186694 non-null  int64 \n",
            " 17  EMBARAZO               1186694 non-null  int64 \n",
            " 18  HABLA_LENGUA_INDIG     1186694 non-null  int64 \n",
            " 19  INDIGENA               1186694 non-null  int64 \n",
            " 20  DIABETES               1186694 non-null  int64 \n",
            " 21  EPOC                   1186694 non-null  int64 \n",
            " 22  ASMA                   1186694 non-null  int64 \n",
            " 23  INMUSUPR               1186694 non-null  int64 \n",
            " 24  HIPERTENSION           1186694 non-null  int64 \n",
            " 25  OTRA_COM               1186694 non-null  int64 \n",
            " 26  CARDIOVASCULAR         1186694 non-null  int64 \n",
            " 27  OBESIDAD               1186694 non-null  int64 \n",
            " 28  RENAL_CRONICA          1186694 non-null  int64 \n",
            " 29  TABAQUISMO             1186694 non-null  int64 \n",
            " 30  OTRO_CASO              1186694 non-null  int64 \n",
            " 31  TOMA_MUESTRA_LAB       1186694 non-null  int64 \n",
            " 32  RESULTADO_LAB          1186694 non-null  int64 \n",
            " 33  TOMA_MUESTRA_ANTIGENO  1186694 non-null  int64 \n",
            " 34  RESULTADO_ANTIGENO     1186694 non-null  int64 \n",
            " 35  CLASIFICACION_FINAL    1186694 non-null  int64 \n",
            " 36  MIGRANTE               1186694 non-null  int64 \n",
            " 37  PAIS_NACIONALIDAD      1186694 non-null  object\n",
            " 38  PAIS_ORIGEN            1186694 non-null  object\n",
            " 39  UCI                    1186694 non-null  int64 \n",
            "dtypes: int64(33), object(7)\n",
            "memory usage: 362.2+ MB\n"
          ]
        }
      ],
      "source": [
        "# Leer el archivo CSV 'COVID19MEXICO.csv' y almacenar los datos en un DataFrame llamado 'data'\n",
        "data = pd.read_csv('COVID19MEXICO.csv', low_memory=False)\n",
        "# Mostrar información sobre el DataFrame, incluyendo el tipo de datos de cada columna y la memoria utilizada\n",
        "data.info()"
      ]
    },
    {
      "cell_type": "code",
      "execution_count": null,
      "metadata": {
        "colab": {
          "base_uri": "https://localhost:8080/"
        },
        "id": "hCuWIrza16-k",
        "outputId": "be90fd83-7199-4c94-c4b7-4e57b399ed6f"
      },
      "outputs": [
        {
          "output_type": "stream",
          "name": "stdout",
          "text": [
            "Número de filas: 1186694\n",
            "Número de columnas: 40\n"
          ]
        }
      ],
      "source": [
        "# Obtener las dimensiones del DataFrame 'data'\n",
        "dimensiones = data.shape\n",
        "# Imprimir las dimensiones\n",
        "print(\"Número de filas:\", dimensiones[0])\n",
        "print(\"Número de columnas:\", dimensiones[1])\n"
      ]
    },
    {
      "cell_type": "markdown",
      "source": [
        "**Valor que perdido**\n",
        "\n",
        " Manejar el valor perdido es muy importante en el aprendizaje automático, porque los algoritmos no admiten el valor perdido para procesarlo."
      ],
      "metadata": {
        "id": "tUQpSJTR9scE"
      }
    },
    {
      "cell_type": "code",
      "source": [
        "#Comprobar cualquier valor que falte en el conjunto de datos\n",
        "data.isnull().sum()"
      ],
      "metadata": {
        "colab": {
          "base_uri": "https://localhost:8080/"
        },
        "id": "2RpMks-L9t3b",
        "outputId": "c8e2682f-e98b-4121-f908-367e3154c20e"
      },
      "execution_count": null,
      "outputs": [
        {
          "output_type": "execute_result",
          "data": {
            "text/plain": [
              "FECHA_ACTUALIZACION      0\n",
              "ID_REGISTRO              0\n",
              "ORIGEN                   0\n",
              "SECTOR                   0\n",
              "ENTIDAD_UM               0\n",
              "SEXO                     0\n",
              "ENTIDAD_NAC              0\n",
              "ENTIDAD_RES              0\n",
              "MUNICIPIO_RES            0\n",
              "TIPO_PACIENTE            0\n",
              "FECHA_INGRESO            0\n",
              "FECHA_SINTOMAS           0\n",
              "FECHA_DEF                0\n",
              "INTUBADO                 0\n",
              "NEUMONIA                 0\n",
              "EDAD                     0\n",
              "NACIONALIDAD             0\n",
              "EMBARAZO                 0\n",
              "HABLA_LENGUA_INDIG       0\n",
              "INDIGENA                 0\n",
              "DIABETES                 0\n",
              "EPOC                     0\n",
              "ASMA                     0\n",
              "INMUSUPR                 0\n",
              "HIPERTENSION             0\n",
              "OTRA_COM                 0\n",
              "CARDIOVASCULAR           0\n",
              "OBESIDAD                 0\n",
              "RENAL_CRONICA            0\n",
              "TABAQUISMO               0\n",
              "OTRO_CASO                0\n",
              "TOMA_MUESTRA_LAB         0\n",
              "RESULTADO_LAB            0\n",
              "TOMA_MUESTRA_ANTIGENO    0\n",
              "RESULTADO_ANTIGENO       0\n",
              "CLASIFICACION_FINAL      0\n",
              "MIGRANTE                 0\n",
              "PAIS_NACIONALIDAD        0\n",
              "PAIS_ORIGEN              0\n",
              "UCI                      0\n",
              "dtype: int64"
            ]
          },
          "metadata": {},
          "execution_count": 13
        }
      ]
    },
    {
      "cell_type": "markdown",
      "source": [
        "En el conjunto de datos no hay ningún valor faltante presente"
      ],
      "metadata": {
        "id": "44QAYtHw9-AY"
      }
    },
    {
      "cell_type": "markdown",
      "source": [
        "**Análisis exploratorio de datos**\n",
        "\n",
        "El análisis exploratorio de datos es una etapa fundamental en el proceso de análisis de datos, ya que permite obtener información inicial y generar ideas que pueden guiar el desarrollo de modelos predictivos, la toma de decisiones y la generación de nuevas preguntas de investigación."
      ],
      "metadata": {
        "id": "V9XGRX1Y-Pof"
      }
    },
    {
      "cell_type": "code",
      "execution_count": null,
      "metadata": {
        "colab": {
          "base_uri": "https://localhost:8080/",
          "height": 349
        },
        "id": "t0lROVAD16-k",
        "outputId": "847dc304-0913-4452-a4c6-3f2f4d6d824f"
      },
      "outputs": [
        {
          "output_type": "execute_result",
          "data": {
            "text/plain": [
              "             ORIGEN        SECTOR    ENTIDAD_UM          SEXO   ENTIDAD_NAC  \\\n",
              "count  1.186694e+06  1.186694e+06  1.186694e+06  1.186694e+06  1.186694e+06   \n",
              "mean   1.692639e+00  7.030433e+00  1.453498e+01  1.411661e+00  1.534343e+01   \n",
              "std    4.614003e-01  3.830850e+00  7.798240e+00  4.921346e-01  9.505631e+00   \n",
              "min    1.000000e+00  1.000000e+00  1.000000e+00  1.000000e+00  1.000000e+00   \n",
              "25%    1.000000e+00  4.000000e+00  9.000000e+00  1.000000e+00  9.000000e+00   \n",
              "50%    2.000000e+00  4.000000e+00  1.300000e+01  1.000000e+00  1.400000e+01   \n",
              "75%    2.000000e+00  1.200000e+01  2.000000e+01  2.000000e+00  2.100000e+01   \n",
              "max    2.000000e+00  9.900000e+01  3.200000e+01  2.000000e+00  9.900000e+01   \n",
              "\n",
              "        ENTIDAD_RES  MUNICIPIO_RES  TIPO_PACIENTE      INTUBADO      NEUMONIA  \\\n",
              "count  1.186694e+06   1.186694e+06   1.186694e+06  1.186694e+06  1.186694e+06   \n",
              "mean   1.471309e+01   3.856584e+01   1.083214e+00  8.911062e+01  2.440521e+00   \n",
              "std    7.762377e+00   7.497106e+01   2.762048e-01  2.622312e+01  6.757076e+00   \n",
              "min    1.000000e+00   1.000000e+00   1.000000e+00  1.000000e+00  1.000000e+00   \n",
              "25%    9.000000e+00   7.000000e+00   1.000000e+00  9.700000e+01  2.000000e+00   \n",
              "50%    1.400000e+01   1.700000e+01   1.000000e+00  9.700000e+01  2.000000e+00   \n",
              "75%    2.000000e+01   4.400000e+01   1.000000e+00  9.700000e+01  2.000000e+00   \n",
              "max    3.200000e+01   9.990000e+02   2.000000e+00  9.900000e+01  9.900000e+01   \n",
              "\n",
              "       ...  RENAL_CRONICA    TABAQUISMO     OTRO_CASO  TOMA_MUESTRA_LAB  \\\n",
              "count  ...   1.186694e+06  1.186694e+06  1.186694e+06      1.186694e+06   \n",
              "mean   ...   2.076030e+00  2.051011e+00  3.407123e+00      1.806609e+00   \n",
              "std    ...   2.897062e+00  2.974038e+00  1.215743e+01      3.949571e-01   \n",
              "min    ...   1.000000e+00  1.000000e+00  1.000000e+00      1.000000e+00   \n",
              "25%    ...   2.000000e+00  2.000000e+00  2.000000e+00      2.000000e+00   \n",
              "50%    ...   2.000000e+00  2.000000e+00  2.000000e+00      2.000000e+00   \n",
              "75%    ...   2.000000e+00  2.000000e+00  2.000000e+00      2.000000e+00   \n",
              "max    ...   9.800000e+01  9.800000e+01  9.900000e+01      2.000000e+00   \n",
              "\n",
              "       RESULTADO_LAB  TOMA_MUESTRA_ANTIGENO  RESULTADO_ANTIGENO  \\\n",
              "count   1.186694e+06           1.186694e+06        1.186694e+06   \n",
              "mean    7.861505e+01           1.145288e+00        1.547294e+01   \n",
              "std     3.754819e+01           3.523908e-01        3.361594e+01   \n",
              "min     1.000000e+00           1.000000e+00        1.000000e+00   \n",
              "25%     9.700000e+01           1.000000e+00        1.000000e+00   \n",
              "50%     9.700000e+01           1.000000e+00        2.000000e+00   \n",
              "75%     9.700000e+01           1.000000e+00        2.000000e+00   \n",
              "max     9.700000e+01           2.000000e+00        9.700000e+01   \n",
              "\n",
              "       CLASIFICACION_FINAL      MIGRANTE           UCI  \n",
              "count         1.186694e+06  1.186694e+06  1.186694e+06  \n",
              "mean          5.487269e+00  9.866122e+01  8.911151e+01  \n",
              "std           1.916392e+00  5.734053e+00  2.622033e+01  \n",
              "min           1.000000e+00  1.000000e+00  1.000000e+00  \n",
              "25%           3.000000e+00  9.900000e+01  9.700000e+01  \n",
              "50%           7.000000e+00  9.900000e+01  9.700000e+01  \n",
              "75%           7.000000e+00  9.900000e+01  9.700000e+01  \n",
              "max           7.000000e+00  9.900000e+01  9.900000e+01  \n",
              "\n",
              "[8 rows x 33 columns]"
            ],
            "text/html": [
              "\n",
              "  <div id=\"df-9a9da48d-301d-4228-9ec5-b062b5d24a01\" class=\"colab-df-container\">\n",
              "    <div>\n",
              "<style scoped>\n",
              "    .dataframe tbody tr th:only-of-type {\n",
              "        vertical-align: middle;\n",
              "    }\n",
              "\n",
              "    .dataframe tbody tr th {\n",
              "        vertical-align: top;\n",
              "    }\n",
              "\n",
              "    .dataframe thead th {\n",
              "        text-align: right;\n",
              "    }\n",
              "</style>\n",
              "<table border=\"1\" class=\"dataframe\">\n",
              "  <thead>\n",
              "    <tr style=\"text-align: right;\">\n",
              "      <th></th>\n",
              "      <th>ORIGEN</th>\n",
              "      <th>SECTOR</th>\n",
              "      <th>ENTIDAD_UM</th>\n",
              "      <th>SEXO</th>\n",
              "      <th>ENTIDAD_NAC</th>\n",
              "      <th>ENTIDAD_RES</th>\n",
              "      <th>MUNICIPIO_RES</th>\n",
              "      <th>TIPO_PACIENTE</th>\n",
              "      <th>INTUBADO</th>\n",
              "      <th>NEUMONIA</th>\n",
              "      <th>...</th>\n",
              "      <th>RENAL_CRONICA</th>\n",
              "      <th>TABAQUISMO</th>\n",
              "      <th>OTRO_CASO</th>\n",
              "      <th>TOMA_MUESTRA_LAB</th>\n",
              "      <th>RESULTADO_LAB</th>\n",
              "      <th>TOMA_MUESTRA_ANTIGENO</th>\n",
              "      <th>RESULTADO_ANTIGENO</th>\n",
              "      <th>CLASIFICACION_FINAL</th>\n",
              "      <th>MIGRANTE</th>\n",
              "      <th>UCI</th>\n",
              "    </tr>\n",
              "  </thead>\n",
              "  <tbody>\n",
              "    <tr>\n",
              "      <th>count</th>\n",
              "      <td>1.186694e+06</td>\n",
              "      <td>1.186694e+06</td>\n",
              "      <td>1.186694e+06</td>\n",
              "      <td>1.186694e+06</td>\n",
              "      <td>1.186694e+06</td>\n",
              "      <td>1.186694e+06</td>\n",
              "      <td>1.186694e+06</td>\n",
              "      <td>1.186694e+06</td>\n",
              "      <td>1.186694e+06</td>\n",
              "      <td>1.186694e+06</td>\n",
              "      <td>...</td>\n",
              "      <td>1.186694e+06</td>\n",
              "      <td>1.186694e+06</td>\n",
              "      <td>1.186694e+06</td>\n",
              "      <td>1.186694e+06</td>\n",
              "      <td>1.186694e+06</td>\n",
              "      <td>1.186694e+06</td>\n",
              "      <td>1.186694e+06</td>\n",
              "      <td>1.186694e+06</td>\n",
              "      <td>1.186694e+06</td>\n",
              "      <td>1.186694e+06</td>\n",
              "    </tr>\n",
              "    <tr>\n",
              "      <th>mean</th>\n",
              "      <td>1.692639e+00</td>\n",
              "      <td>7.030433e+00</td>\n",
              "      <td>1.453498e+01</td>\n",
              "      <td>1.411661e+00</td>\n",
              "      <td>1.534343e+01</td>\n",
              "      <td>1.471309e+01</td>\n",
              "      <td>3.856584e+01</td>\n",
              "      <td>1.083214e+00</td>\n",
              "      <td>8.911062e+01</td>\n",
              "      <td>2.440521e+00</td>\n",
              "      <td>...</td>\n",
              "      <td>2.076030e+00</td>\n",
              "      <td>2.051011e+00</td>\n",
              "      <td>3.407123e+00</td>\n",
              "      <td>1.806609e+00</td>\n",
              "      <td>7.861505e+01</td>\n",
              "      <td>1.145288e+00</td>\n",
              "      <td>1.547294e+01</td>\n",
              "      <td>5.487269e+00</td>\n",
              "      <td>9.866122e+01</td>\n",
              "      <td>8.911151e+01</td>\n",
              "    </tr>\n",
              "    <tr>\n",
              "      <th>std</th>\n",
              "      <td>4.614003e-01</td>\n",
              "      <td>3.830850e+00</td>\n",
              "      <td>7.798240e+00</td>\n",
              "      <td>4.921346e-01</td>\n",
              "      <td>9.505631e+00</td>\n",
              "      <td>7.762377e+00</td>\n",
              "      <td>7.497106e+01</td>\n",
              "      <td>2.762048e-01</td>\n",
              "      <td>2.622312e+01</td>\n",
              "      <td>6.757076e+00</td>\n",
              "      <td>...</td>\n",
              "      <td>2.897062e+00</td>\n",
              "      <td>2.974038e+00</td>\n",
              "      <td>1.215743e+01</td>\n",
              "      <td>3.949571e-01</td>\n",
              "      <td>3.754819e+01</td>\n",
              "      <td>3.523908e-01</td>\n",
              "      <td>3.361594e+01</td>\n",
              "      <td>1.916392e+00</td>\n",
              "      <td>5.734053e+00</td>\n",
              "      <td>2.622033e+01</td>\n",
              "    </tr>\n",
              "    <tr>\n",
              "      <th>min</th>\n",
              "      <td>1.000000e+00</td>\n",
              "      <td>1.000000e+00</td>\n",
              "      <td>1.000000e+00</td>\n",
              "      <td>1.000000e+00</td>\n",
              "      <td>1.000000e+00</td>\n",
              "      <td>1.000000e+00</td>\n",
              "      <td>1.000000e+00</td>\n",
              "      <td>1.000000e+00</td>\n",
              "      <td>1.000000e+00</td>\n",
              "      <td>1.000000e+00</td>\n",
              "      <td>...</td>\n",
              "      <td>1.000000e+00</td>\n",
              "      <td>1.000000e+00</td>\n",
              "      <td>1.000000e+00</td>\n",
              "      <td>1.000000e+00</td>\n",
              "      <td>1.000000e+00</td>\n",
              "      <td>1.000000e+00</td>\n",
              "      <td>1.000000e+00</td>\n",
              "      <td>1.000000e+00</td>\n",
              "      <td>1.000000e+00</td>\n",
              "      <td>1.000000e+00</td>\n",
              "    </tr>\n",
              "    <tr>\n",
              "      <th>25%</th>\n",
              "      <td>1.000000e+00</td>\n",
              "      <td>4.000000e+00</td>\n",
              "      <td>9.000000e+00</td>\n",
              "      <td>1.000000e+00</td>\n",
              "      <td>9.000000e+00</td>\n",
              "      <td>9.000000e+00</td>\n",
              "      <td>7.000000e+00</td>\n",
              "      <td>1.000000e+00</td>\n",
              "      <td>9.700000e+01</td>\n",
              "      <td>2.000000e+00</td>\n",
              "      <td>...</td>\n",
              "      <td>2.000000e+00</td>\n",
              "      <td>2.000000e+00</td>\n",
              "      <td>2.000000e+00</td>\n",
              "      <td>2.000000e+00</td>\n",
              "      <td>9.700000e+01</td>\n",
              "      <td>1.000000e+00</td>\n",
              "      <td>1.000000e+00</td>\n",
              "      <td>3.000000e+00</td>\n",
              "      <td>9.900000e+01</td>\n",
              "      <td>9.700000e+01</td>\n",
              "    </tr>\n",
              "    <tr>\n",
              "      <th>50%</th>\n",
              "      <td>2.000000e+00</td>\n",
              "      <td>4.000000e+00</td>\n",
              "      <td>1.300000e+01</td>\n",
              "      <td>1.000000e+00</td>\n",
              "      <td>1.400000e+01</td>\n",
              "      <td>1.400000e+01</td>\n",
              "      <td>1.700000e+01</td>\n",
              "      <td>1.000000e+00</td>\n",
              "      <td>9.700000e+01</td>\n",
              "      <td>2.000000e+00</td>\n",
              "      <td>...</td>\n",
              "      <td>2.000000e+00</td>\n",
              "      <td>2.000000e+00</td>\n",
              "      <td>2.000000e+00</td>\n",
              "      <td>2.000000e+00</td>\n",
              "      <td>9.700000e+01</td>\n",
              "      <td>1.000000e+00</td>\n",
              "      <td>2.000000e+00</td>\n",
              "      <td>7.000000e+00</td>\n",
              "      <td>9.900000e+01</td>\n",
              "      <td>9.700000e+01</td>\n",
              "    </tr>\n",
              "    <tr>\n",
              "      <th>75%</th>\n",
              "      <td>2.000000e+00</td>\n",
              "      <td>1.200000e+01</td>\n",
              "      <td>2.000000e+01</td>\n",
              "      <td>2.000000e+00</td>\n",
              "      <td>2.100000e+01</td>\n",
              "      <td>2.000000e+01</td>\n",
              "      <td>4.400000e+01</td>\n",
              "      <td>1.000000e+00</td>\n",
              "      <td>9.700000e+01</td>\n",
              "      <td>2.000000e+00</td>\n",
              "      <td>...</td>\n",
              "      <td>2.000000e+00</td>\n",
              "      <td>2.000000e+00</td>\n",
              "      <td>2.000000e+00</td>\n",
              "      <td>2.000000e+00</td>\n",
              "      <td>9.700000e+01</td>\n",
              "      <td>1.000000e+00</td>\n",
              "      <td>2.000000e+00</td>\n",
              "      <td>7.000000e+00</td>\n",
              "      <td>9.900000e+01</td>\n",
              "      <td>9.700000e+01</td>\n",
              "    </tr>\n",
              "    <tr>\n",
              "      <th>max</th>\n",
              "      <td>2.000000e+00</td>\n",
              "      <td>9.900000e+01</td>\n",
              "      <td>3.200000e+01</td>\n",
              "      <td>2.000000e+00</td>\n",
              "      <td>9.900000e+01</td>\n",
              "      <td>3.200000e+01</td>\n",
              "      <td>9.990000e+02</td>\n",
              "      <td>2.000000e+00</td>\n",
              "      <td>9.900000e+01</td>\n",
              "      <td>9.900000e+01</td>\n",
              "      <td>...</td>\n",
              "      <td>9.800000e+01</td>\n",
              "      <td>9.800000e+01</td>\n",
              "      <td>9.900000e+01</td>\n",
              "      <td>2.000000e+00</td>\n",
              "      <td>9.700000e+01</td>\n",
              "      <td>2.000000e+00</td>\n",
              "      <td>9.700000e+01</td>\n",
              "      <td>7.000000e+00</td>\n",
              "      <td>9.900000e+01</td>\n",
              "      <td>9.900000e+01</td>\n",
              "    </tr>\n",
              "  </tbody>\n",
              "</table>\n",
              "<p>8 rows × 33 columns</p>\n",
              "</div>\n",
              "    <div class=\"colab-df-buttons\">\n",
              "\n",
              "  <div class=\"colab-df-container\">\n",
              "    <button class=\"colab-df-convert\" onclick=\"convertToInteractive('df-9a9da48d-301d-4228-9ec5-b062b5d24a01')\"\n",
              "            title=\"Convert this dataframe to an interactive table.\"\n",
              "            style=\"display:none;\">\n",
              "\n",
              "  <svg xmlns=\"http://www.w3.org/2000/svg\" height=\"24px\" viewBox=\"0 -960 960 960\">\n",
              "    <path d=\"M120-120v-720h720v720H120Zm60-500h600v-160H180v160Zm220 220h160v-160H400v160Zm0 220h160v-160H400v160ZM180-400h160v-160H180v160Zm440 0h160v-160H620v160ZM180-180h160v-160H180v160Zm440 0h160v-160H620v160Z\"/>\n",
              "  </svg>\n",
              "    </button>\n",
              "\n",
              "  <style>\n",
              "    .colab-df-container {\n",
              "      display:flex;\n",
              "      gap: 12px;\n",
              "    }\n",
              "\n",
              "    .colab-df-convert {\n",
              "      background-color: #E8F0FE;\n",
              "      border: none;\n",
              "      border-radius: 50%;\n",
              "      cursor: pointer;\n",
              "      display: none;\n",
              "      fill: #1967D2;\n",
              "      height: 32px;\n",
              "      padding: 0 0 0 0;\n",
              "      width: 32px;\n",
              "    }\n",
              "\n",
              "    .colab-df-convert:hover {\n",
              "      background-color: #E2EBFA;\n",
              "      box-shadow: 0px 1px 2px rgba(60, 64, 67, 0.3), 0px 1px 3px 1px rgba(60, 64, 67, 0.15);\n",
              "      fill: #174EA6;\n",
              "    }\n",
              "\n",
              "    .colab-df-buttons div {\n",
              "      margin-bottom: 4px;\n",
              "    }\n",
              "\n",
              "    [theme=dark] .colab-df-convert {\n",
              "      background-color: #3B4455;\n",
              "      fill: #D2E3FC;\n",
              "    }\n",
              "\n",
              "    [theme=dark] .colab-df-convert:hover {\n",
              "      background-color: #434B5C;\n",
              "      box-shadow: 0px 1px 3px 1px rgba(0, 0, 0, 0.15);\n",
              "      filter: drop-shadow(0px 1px 2px rgba(0, 0, 0, 0.3));\n",
              "      fill: #FFFFFF;\n",
              "    }\n",
              "  </style>\n",
              "\n",
              "    <script>\n",
              "      const buttonEl =\n",
              "        document.querySelector('#df-9a9da48d-301d-4228-9ec5-b062b5d24a01 button.colab-df-convert');\n",
              "      buttonEl.style.display =\n",
              "        google.colab.kernel.accessAllowed ? 'block' : 'none';\n",
              "\n",
              "      async function convertToInteractive(key) {\n",
              "        const element = document.querySelector('#df-9a9da48d-301d-4228-9ec5-b062b5d24a01');\n",
              "        const dataTable =\n",
              "          await google.colab.kernel.invokeFunction('convertToInteractive',\n",
              "                                                    [key], {});\n",
              "        if (!dataTable) return;\n",
              "\n",
              "        const docLinkHtml = 'Like what you see? Visit the ' +\n",
              "          '<a target=\"_blank\" href=https://colab.research.google.com/notebooks/data_table.ipynb>data table notebook</a>'\n",
              "          + ' to learn more about interactive tables.';\n",
              "        element.innerHTML = '';\n",
              "        dataTable['output_type'] = 'display_data';\n",
              "        await google.colab.output.renderOutput(dataTable, element);\n",
              "        const docLink = document.createElement('div');\n",
              "        docLink.innerHTML = docLinkHtml;\n",
              "        element.appendChild(docLink);\n",
              "      }\n",
              "    </script>\n",
              "  </div>\n",
              "\n",
              "\n",
              "<div id=\"df-61197f76-68e6-42a7-934f-48638adde1be\">\n",
              "  <button class=\"colab-df-quickchart\" onclick=\"quickchart('df-61197f76-68e6-42a7-934f-48638adde1be')\"\n",
              "            title=\"Suggest charts\"\n",
              "            style=\"display:none;\">\n",
              "\n",
              "<svg xmlns=\"http://www.w3.org/2000/svg\" height=\"24px\"viewBox=\"0 0 24 24\"\n",
              "     width=\"24px\">\n",
              "    <g>\n",
              "        <path d=\"M19 3H5c-1.1 0-2 .9-2 2v14c0 1.1.9 2 2 2h14c1.1 0 2-.9 2-2V5c0-1.1-.9-2-2-2zM9 17H7v-7h2v7zm4 0h-2V7h2v10zm4 0h-2v-4h2v4z\"/>\n",
              "    </g>\n",
              "</svg>\n",
              "  </button>\n",
              "\n",
              "<style>\n",
              "  .colab-df-quickchart {\n",
              "      --bg-color: #E8F0FE;\n",
              "      --fill-color: #1967D2;\n",
              "      --hover-bg-color: #E2EBFA;\n",
              "      --hover-fill-color: #174EA6;\n",
              "      --disabled-fill-color: #AAA;\n",
              "      --disabled-bg-color: #DDD;\n",
              "  }\n",
              "\n",
              "  [theme=dark] .colab-df-quickchart {\n",
              "      --bg-color: #3B4455;\n",
              "      --fill-color: #D2E3FC;\n",
              "      --hover-bg-color: #434B5C;\n",
              "      --hover-fill-color: #FFFFFF;\n",
              "      --disabled-bg-color: #3B4455;\n",
              "      --disabled-fill-color: #666;\n",
              "  }\n",
              "\n",
              "  .colab-df-quickchart {\n",
              "    background-color: var(--bg-color);\n",
              "    border: none;\n",
              "    border-radius: 50%;\n",
              "    cursor: pointer;\n",
              "    display: none;\n",
              "    fill: var(--fill-color);\n",
              "    height: 32px;\n",
              "    padding: 0;\n",
              "    width: 32px;\n",
              "  }\n",
              "\n",
              "  .colab-df-quickchart:hover {\n",
              "    background-color: var(--hover-bg-color);\n",
              "    box-shadow: 0 1px 2px rgba(60, 64, 67, 0.3), 0 1px 3px 1px rgba(60, 64, 67, 0.15);\n",
              "    fill: var(--button-hover-fill-color);\n",
              "  }\n",
              "\n",
              "  .colab-df-quickchart-complete:disabled,\n",
              "  .colab-df-quickchart-complete:disabled:hover {\n",
              "    background-color: var(--disabled-bg-color);\n",
              "    fill: var(--disabled-fill-color);\n",
              "    box-shadow: none;\n",
              "  }\n",
              "\n",
              "  .colab-df-spinner {\n",
              "    border: 2px solid var(--fill-color);\n",
              "    border-color: transparent;\n",
              "    border-bottom-color: var(--fill-color);\n",
              "    animation:\n",
              "      spin 1s steps(1) infinite;\n",
              "  }\n",
              "\n",
              "  @keyframes spin {\n",
              "    0% {\n",
              "      border-color: transparent;\n",
              "      border-bottom-color: var(--fill-color);\n",
              "      border-left-color: var(--fill-color);\n",
              "    }\n",
              "    20% {\n",
              "      border-color: transparent;\n",
              "      border-left-color: var(--fill-color);\n",
              "      border-top-color: var(--fill-color);\n",
              "    }\n",
              "    30% {\n",
              "      border-color: transparent;\n",
              "      border-left-color: var(--fill-color);\n",
              "      border-top-color: var(--fill-color);\n",
              "      border-right-color: var(--fill-color);\n",
              "    }\n",
              "    40% {\n",
              "      border-color: transparent;\n",
              "      border-right-color: var(--fill-color);\n",
              "      border-top-color: var(--fill-color);\n",
              "    }\n",
              "    60% {\n",
              "      border-color: transparent;\n",
              "      border-right-color: var(--fill-color);\n",
              "    }\n",
              "    80% {\n",
              "      border-color: transparent;\n",
              "      border-right-color: var(--fill-color);\n",
              "      border-bottom-color: var(--fill-color);\n",
              "    }\n",
              "    90% {\n",
              "      border-color: transparent;\n",
              "      border-bottom-color: var(--fill-color);\n",
              "    }\n",
              "  }\n",
              "</style>\n",
              "\n",
              "  <script>\n",
              "    async function quickchart(key) {\n",
              "      const quickchartButtonEl =\n",
              "        document.querySelector('#' + key + ' button');\n",
              "      quickchartButtonEl.disabled = true;  // To prevent multiple clicks.\n",
              "      quickchartButtonEl.classList.add('colab-df-spinner');\n",
              "      try {\n",
              "        const charts = await google.colab.kernel.invokeFunction(\n",
              "            'suggestCharts', [key], {});\n",
              "      } catch (error) {\n",
              "        console.error('Error during call to suggestCharts:', error);\n",
              "      }\n",
              "      quickchartButtonEl.classList.remove('colab-df-spinner');\n",
              "      quickchartButtonEl.classList.add('colab-df-quickchart-complete');\n",
              "    }\n",
              "    (() => {\n",
              "      let quickchartButtonEl =\n",
              "        document.querySelector('#df-61197f76-68e6-42a7-934f-48638adde1be button');\n",
              "      quickchartButtonEl.style.display =\n",
              "        google.colab.kernel.accessAllowed ? 'block' : 'none';\n",
              "    })();\n",
              "  </script>\n",
              "</div>\n",
              "    </div>\n",
              "  </div>\n"
            ]
          },
          "metadata": {},
          "execution_count": 14
        }
      ],
      "source": [
        "# Utilizar la función describe() en el DataFrame 'data'\n",
        "data.describe()\n",
        "\n"
      ]
    },
    {
      "cell_type": "code",
      "execution_count": null,
      "metadata": {
        "id": "-n5A-OZQ16-l"
      },
      "outputs": [],
      "source": [
        "# Copia el DataFrame original\n",
        "df=data"
      ]
    },
    {
      "cell_type": "markdown",
      "metadata": {
        "id": "YQn84lEc16-l"
      },
      "source": [
        "A continuación eliminaremos secciones irrelevantes del DataFrame, en base a la cantidad de registros que contengan categorías específicas o sus significados."
      ]
    },
    {
      "cell_type": "markdown",
      "metadata": {
        "id": "9mTfcsuI16-l"
      },
      "source": [
        "#### Clasificación Final\n",
        "Identifica si el paciente es un caso de COVID-19 según el catálogo \"CLASIFICACION_FINAL\"."
      ]
    },
    {
      "cell_type": "code",
      "execution_count": null,
      "metadata": {
        "id": "wobSivMO16-l",
        "outputId": "06b815fa-338a-42a9-881c-6f3062b8b267",
        "colab": {
          "base_uri": "https://localhost:8080/"
        }
      },
      "outputs": [
        {
          "output_type": "execute_result",
          "data": {
            "text/plain": [
              "7    692424\n",
              "3    419475\n",
              "6     64459\n",
              "1      7969\n",
              "5      2177\n",
              "4       164\n",
              "2        26\n",
              "Name: CLASIFICACION_FINAL, dtype: int64"
            ]
          },
          "metadata": {},
          "execution_count": 16
        }
      ],
      "source": [
        "df['CLASIFICACION_FINAL'].value_counts() # Proporciona la cantidad de veces que aparece cada valor único en la columna 'CLASIFICACION_FINAL'."
      ]
    },
    {
      "cell_type": "markdown",
      "metadata": {
        "id": "2QQv1kZ416-l"
      },
      "source": [
        "En el conjunto de datos, se destaca que las categorías 4, 2 y 5 de la columna \"CLASIFICACION_FINAL\" cuentan con una cantidad considerablemente menor de registros en comparación con las demás categorías. Tras un análisis detenido, se determina que estos valores carecen de relevancia debido a la naturaleza particular de estos casos y al contexto específico del análisis de datos relacionados con la clasificación de casos de COVID-19.\n",
        "\n",
        "**Naturaleza de los Casos:**\n",
        " - **Caso 2 (Confirmado por Comité de Dictaminación):** Relacionado con defunciones y situaciones específicas que involucran la toma de muestras o la validez de las mismas. En muchos análisis, los casos de defunción pueden tener características únicas y no contribuir significativamente a la identificación de patrones en datos más generales.\n",
        " - **Caso 4 (Inválido por Laboratorio) y Caso 5 (No Realizado por Laboratorio):** Indican situaciones donde la muestra de laboratorio no es válida o no se procesa. Estos casos pueden no contribuir de manera significativa a la comprensión del proceso de infección por COVID-19, ya que no proporcionan información directa sobre casos confirmados."
      ]
    },
    {
      "cell_type": "code",
      "execution_count": null,
      "metadata": {
        "id": "PAxu218O16-l"
      },
      "outputs": [],
      "source": [
        "# Elimina filas donde la columna 'CLASIFICACION_FINAL' tiene valores 2, 4 o 5\n",
        "df = df[~df['CLASIFICACION_FINAL'].isin([2, 4, 5])]"
      ]
    },
    {
      "cell_type": "markdown",
      "metadata": {
        "id": "oQqc3rph16-m"
      },
      "source": [
        "#### Columnas Específicas\n",
        "La eliminación de estas columnas se debe a varias razones:\n",
        " - **Redundancia o Identificación Única:** Columnas como 'ID_REGISTRO' son identificadores únicos para cada registro y no aportan información adicional relevante para el análisis.\n",
        " - **Información Geográfica Detallada:** Las columnas relacionadas con la entidad, municipio y país de origen pueden son demasiado detalladas para el alcance del análisis. A menos que se esté llevando a cabo un análisis específico centrado en la ubicación geográfica, la información más general es suficiente.\n",
        "- **Información Demográfica Específica:** 'HABLA_LENGUA_INDIG', 'INDIGENA' y 'NACIONALIDAD' no tienen un impacto directo en el estudio del COVID-19, por que el análisis se centra en patrones epidemiológicos generales."
      ]
    },
    {
      "cell_type": "code",
      "execution_count": null,
      "metadata": {
        "id": "cN9d7rfE16-m",
        "outputId": "c38d0b2e-6e1e-487b-b7bc-f4c7bab5d984",
        "colab": {
          "base_uri": "https://localhost:8080/"
        }
      },
      "outputs": [
        {
          "output_type": "stream",
          "name": "stdout",
          "text": [
            "             SECTOR  MUNICIPIO_RES  HABLA_LENGUA_INDIG        ORIGEN  \\\n",
            "count  1.184327e+06   1.184327e+06        1.184327e+06  1.184327e+06   \n",
            "mean   7.027754e+00   3.853162e+01        6.205426e+00  1.692873e+00   \n",
            "std    3.830609e+00   7.484037e+01        1.977596e+01  4.613028e-01   \n",
            "min    1.000000e+00   1.000000e+00        1.000000e+00  1.000000e+00   \n",
            "25%    4.000000e+00   7.000000e+00        2.000000e+00  1.000000e+00   \n",
            "50%    4.000000e+00   1.700000e+01        2.000000e+00  2.000000e+00   \n",
            "75%    1.200000e+01   4.400000e+01        2.000000e+00  2.000000e+00   \n",
            "max    9.900000e+01   9.990000e+02        9.900000e+01  2.000000e+00   \n",
            "\n",
            "           INDIGENA    ENTIDAD_UM   ENTIDAD_NAC  NACIONALIDAD   ENTIDAD_RES  \n",
            "count  1.184327e+06  1.184327e+06  1.184327e+06  1.184327e+06  1.184327e+06  \n",
            "mean   6.088259e+00  1.453609e+01  1.534296e+01  1.004290e+00  1.471339e+01  \n",
            "std    1.951646e+01  7.798185e+00  9.502570e+00  6.535899e-02  7.762395e+00  \n",
            "min    1.000000e+00  1.000000e+00  1.000000e+00  1.000000e+00  1.000000e+00  \n",
            "25%    2.000000e+00  9.000000e+00  9.000000e+00  1.000000e+00  9.000000e+00  \n",
            "50%    2.000000e+00  1.300000e+01  1.400000e+01  1.000000e+00  1.400000e+01  \n",
            "75%    2.000000e+00  2.000000e+01  2.100000e+01  1.000000e+00  2.000000e+01  \n",
            "max    9.900000e+01  3.200000e+01  9.900000e+01  2.000000e+00  3.200000e+01  \n"
          ]
        }
      ],
      "source": [
        "# Estadísticas descriptivas antes de la eliminación\n",
        "print(df[['SECTOR','MUNICIPIO_RES','HABLA_LENGUA_INDIG','ID_REGISTRO','ORIGEN','PAIS_NACIONALIDAD','PAIS_ORIGEN','INDIGENA','ENTIDAD_UM','ENTIDAD_NAC','NACIONALIDAD','ENTIDAD_RES']].describe())"
      ]
    },
    {
      "cell_type": "code",
      "execution_count": null,
      "metadata": {
        "id": "pN8OqSk316-m"
      },
      "outputs": [],
      "source": [
        "# Elimina ciertas columnas del DataFrame\n",
        "columns_to_drop = ['SECTOR','MUNICIPIO_RES','HABLA_LENGUA_INDIG','ID_REGISTRO','ORIGEN','PAIS_NACIONALIDAD','PAIS_ORIGEN','INDIGENA','ENTIDAD_UM','ENTIDAD_NAC','NACIONALIDAD','ENTIDAD_RES']\n",
        "df = df.drop(columns=columns_to_drop)"
      ]
    },
    {
      "cell_type": "markdown",
      "metadata": {
        "id": "ukS_Fthj16-m"
      },
      "source": [
        "#### Fecha Síntomas\n",
        "Idenitifica la fecha en que inició la sintomatología del paciente.\n",
        "\n",
        "Se eliminan filas donde la columna 'FECHA_SINTOMAS' tiene valores 97, 98 o 99\n",
        "- **97** No Aplica\n",
        "- **98** Se Ignora\n",
        "- **99** No Especificado"
      ]
    },
    {
      "cell_type": "code",
      "execution_count": null,
      "metadata": {
        "id": "Ijjn1nf716-m"
      },
      "outputs": [],
      "source": [
        "# Elimina filas donde la columna 'FECHA_SINTOMAS' tiene valores 97, 98 o 99\n",
        "df = df[~df['FECHA_SINTOMAS'].isin([97, 98, 99])]"
      ]
    },
    {
      "cell_type": "code",
      "execution_count": null,
      "metadata": {
        "id": "yd4oKAHx16-m"
      },
      "outputs": [],
      "source": [
        "# Convierte columnas de fecha a objetos 'datetime'\n",
        "df['FECHA_ACTUALIZACION'] = pd.to_datetime(df['FECHA_ACTUALIZACION'])\n",
        "df['FECHA_INGRESO'] = pd.to_datetime(df['FECHA_INGRESO'])\n",
        "df['FECHA_SINTOMAS'] = pd.to_datetime(df['FECHA_SINTOMAS'])\n",
        "df['FECHA_DEF'] = pd.to_datetime(df['FECHA_DEF'], errors='coerce')\n",
        "\n",
        "# Convierte las columnas 'TIPO_PACIENTE' y 'SEXO' a etiquetas numéricas utilizando LabelEncoder de scikit-learn\n",
        "le = LabelEncoder()\n",
        "for col in ['TIPO_PACIENTE', 'SEXO']:\n",
        "    df[col] = le.fit_transform(df[col])\n",
        "\n",
        "# Crea nuevas características a partir de las fechas y calcula la diferencia en días\n",
        "df['DIAS_DEFUNCION'] = (df['FECHA_ACTUALIZACION'] - df['FECHA_DEF']).dt.days\n",
        "df['DIAS_HOSPITALIZACION'] = (df['FECHA_ACTUALIZACION'] - df['FECHA_INGRESO']).dt.days\n",
        "df['DIAS_SINTOMAS'] = (df['FECHA_ACTUALIZACION'] - df['FECHA_SINTOMAS']).dt.days"
      ]
    },
    {
      "cell_type": "code",
      "execution_count": null,
      "metadata": {
        "id": "nMU7Uwld16-n"
      },
      "outputs": [],
      "source": [
        "# Ajusta valores negativos en 'DIAS_DEFUNCION' a 0\n",
        "df['DIAS_DEFUNCION'] = df['DIAS_DEFUNCION'].apply(lambda x: 0 if x < 0 else x)\n",
        "\n",
        "# Elimina columnas adicionales\n",
        "columns_to_drop_final = ['FECHA_ACTUALIZACION', 'FECHA_INGRESO', 'FECHA_SINTOMAS', 'FECHA_DEF', 'DIAS_DEFUNCION', 'MIGRANTE']\n",
        "df = df.drop(columns=columns_to_drop_final)"
      ]
    },
    {
      "cell_type": "code",
      "execution_count": null,
      "metadata": {
        "id": "P686ZqOY16-n"
      },
      "outputs": [],
      "source": [
        "# Divide el DataFrame en variables independientes (X) y la variable dependiente (y)\n",
        "X = df.drop(columns=['CLASIFICACION_FINAL'])\n",
        "Y = df['CLASIFICACION_FINAL']"
      ]
    },
    {
      "cell_type": "code",
      "execution_count": null,
      "metadata": {
        "id": "5K4V2HXA16-n"
      },
      "outputs": [],
      "source": [
        "#Separamos los datos en conjunto de entrenamiento y validación\n",
        "X_train, X_test, Y_train, Y_test = train_test_split(X, Y, test_size=0.5, random_state=55)"
      ]
    },
    {
      "cell_type": "code",
      "execution_count": null,
      "metadata": {
        "id": "tjFnNnln16-n",
        "outputId": "aea89aaf-6f5d-4ec5-993e-ce5bc1f762fd",
        "colab": {
          "base_uri": "https://localhost:8080/"
        }
      },
      "outputs": [
        {
          "output_type": "stream",
          "name": "stdout",
          "text": [
            "Modelo resultados para Random Forest usando scikit-learn\n",
            "              precision    recall  f1-score   support\n",
            "\n",
            "           1       0.15      0.04      0.06      3951\n",
            "           3       1.00      1.00      1.00    209997\n",
            "           6       0.97      0.98      0.97     32301\n",
            "           7       0.99      1.00      0.99    345915\n",
            "\n",
            "    accuracy                           0.99    592164\n",
            "   macro avg       0.78      0.75      0.76    592164\n",
            "weighted avg       0.99      0.99      0.99    592164\n",
            "\n",
            "Accuracy: 0.9907187873629603\n"
          ]
        }
      ],
      "source": [
        "# Crear instancia del clasificador Random Forest\n",
        "sklearn_RFC = RandomForestClassifier(random_state=55)\n",
        "\n",
        "# Entrenar y predecir utilizando scikit-learn\n",
        "sklearn_RFC.fit(X_train, Y_train)\n",
        "Y_pred_RFC = sklearn_RFC.predict(X_test)\n",
        "\n",
        "# Calcular e imprimir la precisión utilizando scikit-learn\n",
        "accuracy_RFC = accuracy_score(Y_test, Y_pred_RFC)\n",
        "print('Modelo resultados para Random Forest usando scikit-learn')\n",
        "print(classification_report(Y_test, Y_pred_RFC))\n",
        "print(f'Accuracy: {accuracy_RFC}')"
      ]
    },
    {
      "cell_type": "code",
      "execution_count": null,
      "metadata": {
        "id": "hLx68j-u16-o"
      },
      "outputs": [],
      "source": [
        "def getpreferredencoding(do_setlocale = True):\n",
        "    return \"UTF-8\"\n",
        "locale.getpreferredencoding = getpreferredencoding"
      ]
    },
    {
      "cell_type": "code",
      "execution_count": null,
      "metadata": {
        "id": "-P2KQgL316-o",
        "outputId": "54c80e22-47da-4931-a100-d6383dca2de7",
        "colab": {
          "base_uri": "https://localhost:8080/",
          "height": 611
        }
      },
      "outputs": [
        {
          "output_type": "stream",
          "name": "stdout",
          "text": [
            "Colab notebook detected. To show errors in colab notebook, set debug=True in launch()\n",
            "Running on public URL: https://1ead3b49a5e2ba505d.gradio.live\n",
            "\n",
            "This share link expires in 72 hours. For free permanent hosting and GPU upgrades, run `gradio deploy` from Terminal to deploy to Spaces (https://huggingface.co/spaces)\n"
          ]
        },
        {
          "output_type": "display_data",
          "data": {
            "text/plain": [
              "<IPython.core.display.HTML object>"
            ],
            "text/html": [
              "<div><iframe src=\"https://1ead3b49a5e2ba505d.gradio.live\" width=\"100%\" height=\"500\" allow=\"autoplay; camera; microphone; clipboard-read; clipboard-write;\" frameborder=\"0\" allowfullscreen></iframe></div>"
            ]
          },
          "metadata": {}
        }
      ],
      "source": [
        "# Se debe definir `clf` antes de utilizar la función predict\n",
        "\n",
        "def predict(sexo, tipo_paciente, intubado, neumonia, edad, embarazo,\n",
        "             diabetes, epoc, asma, inmusupr,\n",
        "             hipertension, otra_com, cardiovascular, obesidad,\n",
        "             renal_cronica, tabaquismo, otro_caso, toma_muestra_lab,\n",
        "             resultado_lab, toma_muestra_antigeno, resultado_antigeno,\n",
        "             uci, dias_hospitalizacion, dias_sintomas):\n",
        "\n",
        "    # Crear un DataFrame con los valores de entrada\n",
        "    input_data = pd.DataFrame({\n",
        "        'SEXO': [sexo], 'TIPO_PACIENTE': [tipo_paciente], 'INTUBADO': [intubado], 'NEUMONIA': [neumonia],\n",
        "        'EDAD': [edad], 'EMBARAZO': [embarazo], 'DIABETES': [diabetes], 'EPOC': [epoc],\n",
        "        'ASMA': [asma], 'INMUSUPR': [inmusupr], 'HIPERTENSION': [hipertension],\n",
        "        'OTRA_COM': [otra_com], 'CARDIOVASCULAR': [cardiovascular], 'OBESIDAD': [obesidad],\n",
        "        'RENAL_CRONICA': [renal_cronica], 'TABAQUISMO': [tabaquismo], 'OTRO_CASO': [otro_caso],\n",
        "        'TOMA_MUESTRA_LAB': [toma_muestra_lab], 'RESULTADO_LAB': [resultado_lab],\n",
        "        'TOMA_MUESTRA_ANTIGENO': [toma_muestra_antigeno], 'RESULTADO_ANTIGENO': [resultado_antigeno],\n",
        "        'UCI': [uci], 'DIAS_HOSPITALIZACION': [dias_hospitalizacion],\n",
        "        'DIAS_SINTOMAS': [dias_sintomas]\n",
        "    })\n",
        "\n",
        "    prediction = clf.predict(input_data)\n",
        "    return prediction\n",
        "\n",
        "# Definir los controles de entrada\n",
        "inputs = [\n",
        "    gr.Radio(choices=['Sí', 'No'], label='Sexo'),\n",
        "    gr.Radio(choices=['Sí', 'No'], label='Tipo de Paciente'),\n",
        "    gr.Radio(choices=['Sí', 'No'], label='Intubado'),\n",
        "    gr.Radio(choices=['Sí', 'No'], label='Neumonía'),\n",
        "    gr.Slider(minimum=0, maximum=120, label='Edad'),\n",
        "    gr.Radio(choices=['Sí', 'No'], label='Embarazo'),\n",
        "    gr.Radio(choices=['Sí', 'No'], label='Diabetes'),\n",
        "    gr.Radio(choices=['Sí', 'No'], label='EPOC'),\n",
        "    gr.Radio(choices=['Sí', 'No'], label='Asma'),\n",
        "    gr.Radio(choices=['Sí', 'No'], label='Inmunosupresión'),\n",
        "    gr.Radio(choices=['Sí', 'No'], label='Hipertensión'),\n",
        "    gr.Radio(choices=['Sí', 'No'], label='Otra Comorbilidad'),\n",
        "    gr.Radio(choices=['Sí', 'No'], label='Cardiovascular'),\n",
        "    gr.Radio(choices=['Sí', 'No'], label='Obesidad'),\n",
        "    gr.Radio(choices=['Sí', 'No'], label='Enfermedad Renal Crónica'),\n",
        "    gr.Radio(choices=['Sí', 'No'], label='Tabaquismo'),\n",
        "    gr.Radio(choices=['Sí', 'No'], label='Contacto con otro caso'),\n",
        "    gr.Radio(choices=['Sí', 'No'], label='Toma de muestra de laboratorio'),\n",
        "    gr.Radio(choices=['Sí', 'No'], label='Resultado de laboratorio'),\n",
        "    gr.Radio(choices=['Sí', 'No'], label='Toma de muestra de antígeno'),\n",
        "    gr.Radio(choices=['Sí', 'No'], label='Resultado de antígeno'),\n",
        "    gr.Radio(choices=['Sí', 'No'], label='UCI'),\n",
        "    gr.Slider(minimum=0, maximum=30, label='Días de Hospitalización'),\n",
        "    gr.Slider(minimum=0, maximum=30, label='Días con Síntomas'),\n",
        "]\n",
        "\n",
        "# Definir el componente de salida\n",
        "outputs = gr.Textbox(label=\"Resultado de Clasificación\")\n",
        "\n",
        "# Crear la interfaz de Gradio\n",
        "demo = gr.Interface(fn=predict, inputs=inputs, outputs=outputs)\n",
        "\n",
        "# Ejecutar la aplicación web\n",
        "if __name__ == \"__main__\":\n",
        "    demo.launch(share=True)"
      ]
    }
  ],
  "metadata": {
    "kernelspec": {
      "display_name": "Python 3",
      "language": "python",
      "name": "python3"
    },
    "language_info": {
      "codemirror_mode": {
        "name": "ipython",
        "version": 3
      },
      "file_extension": ".py",
      "mimetype": "text/x-python",
      "name": "python",
      "nbconvert_exporter": "python",
      "pygments_lexer": "ipython3",
      "version": "3.11.5"
    },
    "colab": {
      "provenance": [],
      "include_colab_link": true
    }
  },
  "nbformat": 4,
  "nbformat_minor": 0
}